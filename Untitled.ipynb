{
 "cells": [
  {
   "cell_type": "code",
   "execution_count": 201,
   "id": "7430c556-71a1-4819-976d-11f796bed0a2",
   "metadata": {},
   "outputs": [],
   "source": [
    "import selenium as s\n",
    "import numpy as np\n",
    "from bs4 import BeautifulSoup\n",
    "import pandas as pd\n",
    "from selenium import webdriver\n",
    "from selenium.webdriver.chrome.options import Options\n",
    "from selenium.webdriver.chrome.service import Service\n",
    "import time\n",
    "from selenium.webdriver.common.by import By\n",
    "from tqdm import tqdm"
   ]
  },
  {
   "cell_type": "code",
   "execution_count": 2,
   "id": "091439d9-626a-4b5c-8bfa-a32b8d6b3430",
   "metadata": {},
   "outputs": [],
   "source": [
    "# Initialize variables\n",
    "# Windows PC:\n",
    "PATH = \"./drivers/chromedriver.exe\"\n",
    "\n",
    "# LINUX PC:\n",
    "# PATH = \"./drivers/chromedriver\"\n",
    "\n",
    "chrome_options = Options()\n",
    "s = Service(PATH)\n",
    "# chrome_options.add_argument(\"--headless\")\n",
    "\n",
    "driver = webdriver.Chrome(service=s, options=chrome_options)\n",
    "immoweb_list = \"https://www.immoweb.be/nl/zoeken/appartement/te-huur?countries=BE&page=1&orderBy=relevance\"\n",
    "driver.get(immoweb_list)"
   ]
  },
  {
   "cell_type": "code",
   "execution_count": 5,
   "id": "f5bd2e83-bcee-4a26-92ba-852269917507",
   "metadata": {},
   "outputs": [],
   "source": [
    "# Accept cookies\n",
    "cookie_btn = \"uc-btn-accept-banner\"\n",
    "time.sleep(2)\n",
    "driver.find_element(By.ID, cookie_btn).click()"
   ]
  },
  {
   "cell_type": "code",
   "execution_count": 6,
   "id": "da6a9712-07bc-4018-9b44-e501db05f69f",
   "metadata": {},
   "outputs": [],
   "source": [
    "# Scroll down\n",
    "y = 1000\n",
    "for timer in range(0,10):\n",
    "     driver.execute_script(\"window.scrollTo(0, \"+str(y)+\")\")\n",
    "     y += 1000  \n",
    "     time.sleep(1)"
   ]
  },
  {
   "cell_type": "code",
   "execution_count": 109,
   "id": "f52e69bf-9d47-4083-ad17-b7cb325347d5",
   "metadata": {},
   "outputs": [],
   "source": [
    "# Get items       \n",
    "def add_page_data(soup):\n",
    "    item_class = \"search-results__item\"\n",
    "    price_class = \"card--result__price\"\n",
    "    address_class = \"card__information card--results__information--locality card__information--locality\"\n",
    "    data = pd.DataFrame()\n",
    "\n",
    "    for item in soup.select('li.'+ item_class):\n",
    "        if item.select('div[class*=\"adfocus\"]') == [] and item.select('div[class*=\"pdpads\"]') == []:\n",
    "            price = item.select(\"p.\"+price_class)[0].text\n",
    "            properties = item.select(\"p.card__information.card--result__information.card__information--property\")[0].text\n",
    "            address = item.select(\"p.card__information.card--results__information--locality.card__information--locality\")[0].text\n",
    "            acc_type = item.select(\"a.card__title-link\")[0].text\n",
    "\n",
    "            df_temp = pd.DataFrame(data=[[acc_type, price, address, properties]], columns=[\"type\", \"price\", \"address\", \"properties\"])\n",
    "            if data.empty:\n",
    "                data = df_temp\n",
    "            else:\n",
    "                data = data.append(df_temp)\n",
    "    return data"
   ]
  },
  {
   "cell_type": "code",
   "execution_count": 58,
   "id": "0408dc5e-4363-477e-a59e-dccd3f7d5727",
   "metadata": {},
   "outputs": [
    {
     "data": {
      "text/html": [
       "<div>\n",
       "<style scoped>\n",
       "    .dataframe tbody tr th:only-of-type {\n",
       "        vertical-align: middle;\n",
       "    }\n",
       "\n",
       "    .dataframe tbody tr th {\n",
       "        vertical-align: top;\n",
       "    }\n",
       "\n",
       "    .dataframe thead th {\n",
       "        text-align: right;\n",
       "    }\n",
       "</style>\n",
       "<table border=\"1\" class=\"dataframe\">\n",
       "  <thead>\n",
       "    <tr style=\"text-align: right;\">\n",
       "      <th></th>\n",
       "      <th>type</th>\n",
       "      <th>price</th>\n",
       "      <th>address</th>\n",
       "      <th>properties</th>\n",
       "    </tr>\n",
       "  </thead>\n",
       "  <tbody>\n",
       "    <tr>\n",
       "      <th>0</th>\n",
       "      <td>\\n                    Appartement\\n           ...</td>\n",
       "      <td>€ 1.050 (+ € 150) \\n        1050€ + 150€ per m...</td>\n",
       "      <td>\\n                1030 Schaarbeek\\n</td>\n",
       "      <td>\\n        2 slp.\\n     \\n        2 slaapkamers...</td>\n",
       "    </tr>\n",
       "    <tr>\n",
       "      <th>0</th>\n",
       "      <td>\\n                    Loft\\n</td>\n",
       "      <td>€ 1.400 (+ € 30) \\n        1400€ + 30€ per maa...</td>\n",
       "      <td>\\n                1180 Bruxelles\\n</td>\n",
       "      <td>\\n        2 slp.\\n     \\n        2 slaapkamers...</td>\n",
       "    </tr>\n",
       "    <tr>\n",
       "      <th>0</th>\n",
       "      <td>\\n                    Appartement\\n           ...</td>\n",
       "      <td>€ 840 (+ € 40) \\n        840€ + 40€ per maand\\...</td>\n",
       "      <td>\\n                1040 Etterbeek\\n</td>\n",
       "      <td>\\n        1 slp.\\n     \\n        1 slaapkamer\\...</td>\n",
       "    </tr>\n",
       "    <tr>\n",
       "      <th>0</th>\n",
       "      <td>\\n                    Appartement\\n           ...</td>\n",
       "      <td>€ 840 (+ € 40) \\n        840€ + 40€ per maand\\...</td>\n",
       "      <td>\\n                1150 Woluwe-Saint-Pierre\\n  ...</td>\n",
       "      <td>\\n        1 slp.\\n     \\n        1 slaapkamer\\...</td>\n",
       "    </tr>\n",
       "    <tr>\n",
       "      <th>0</th>\n",
       "      <td>\\n                    Penthouse\\n</td>\n",
       "      <td>€ 1.100 (+ € 100) \\n        1100€ + 100€ per m...</td>\n",
       "      <td>\\n                1140 Evere\\n</td>\n",
       "      <td>\\n        1 slp.\\n     \\n        1 slaapkamer\\...</td>\n",
       "    </tr>\n",
       "  </tbody>\n",
       "</table>\n",
       "</div>"
      ],
      "text/plain": [
       "                                                type  \\\n",
       "0  \\n                    Appartement\\n           ...   \n",
       "0       \\n                    Loft\\n                   \n",
       "0  \\n                    Appartement\\n           ...   \n",
       "0  \\n                    Appartement\\n           ...   \n",
       "0  \\n                    Penthouse\\n                   \n",
       "\n",
       "                                               price  \\\n",
       "0  € 1.050 (+ € 150) \\n        1050€ + 150€ per m...   \n",
       "0  € 1.400 (+ € 30) \\n        1400€ + 30€ per maa...   \n",
       "0  € 840 (+ € 40) \\n        840€ + 40€ per maand\\...   \n",
       "0  € 840 (+ € 40) \\n        840€ + 40€ per maand\\...   \n",
       "0  € 1.100 (+ € 100) \\n        1100€ + 100€ per m...   \n",
       "\n",
       "                                             address  \\\n",
       "0    \\n                1030 Schaarbeek\\n               \n",
       "0     \\n                1180 Bruxelles\\n               \n",
       "0     \\n                1040 Etterbeek\\n               \n",
       "0  \\n                1150 Woluwe-Saint-Pierre\\n  ...   \n",
       "0         \\n                1140 Evere\\n               \n",
       "\n",
       "                                          properties  \n",
       "0  \\n        2 slp.\\n     \\n        2 slaapkamers...  \n",
       "0  \\n        2 slp.\\n     \\n        2 slaapkamers...  \n",
       "0  \\n        1 slp.\\n     \\n        1 slaapkamer\\...  \n",
       "0  \\n        1 slp.\\n     \\n        1 slaapkamer\\...  \n",
       "0  \\n        1 slp.\\n     \\n        1 slaapkamer\\...  "
      ]
     },
     "execution_count": 58,
     "metadata": {},
     "output_type": "execute_result"
    }
   ],
   "source": [
    "data.head()"
   ]
  },
  {
   "cell_type": "code",
   "execution_count": 132,
   "id": "324308ce-1571-4f0d-a17d-c0daaa64c782",
   "metadata": {},
   "outputs": [
    {
     "name": "stderr",
     "output_type": "stream",
     "text": [
      "100%|████████████████████████████████████████████████████████████████████████████████| 333/333 [19:03<00:00,  3.43s/it]\n"
     ]
    }
   ],
   "source": [
    "soup = BeautifulSoup(driver.page_source)\n",
    "data = pd.DataFrame()\n",
    "\n",
    "pag_list = soup.select('li.pagination__item')\n",
    "pag_amount = int(pag_list[len(pag_list)-2].text.strip(\"\\n\").split(\"\\n\")[1])\n",
    "url_1 = \"https://www.immoweb.be/nl/zoeken/appartement/te-huur?countries=BE&page=\"\n",
    "url_2 = \"&orderBy=relevance\"\n",
    "\n",
    "data = pd.DataFrame()\n",
    "for pag_nr in tqdm(range(1, pag_amount+1)):\n",
    "    url = url_1 + str(pag_nr) + url_2\n",
    "    driver.get(url)\n",
    "    \n",
    "    # Get data\n",
    "    df_temp = add_page_data(BeautifulSoup(driver.page_source))\n",
    "    if data.empty:\n",
    "        data = df_temp\n",
    "    else:\n",
    "        data = data.append(df_temp)"
   ]
  },
  {
   "cell_type": "code",
   "execution_count": 133,
   "id": "a2ee9549-d97c-4f44-972c-63864c847e3b",
   "metadata": {},
   "outputs": [
    {
     "name": "stdout",
     "output_type": "stream",
     "text": [
      "<class 'pandas.core.frame.DataFrame'>\n",
      "Int64Index: 9990 entries, 0 to 0\n",
      "Data columns (total 4 columns):\n",
      " #   Column      Non-Null Count  Dtype \n",
      "---  ------      --------------  ----- \n",
      " 0   type        9990 non-null   object\n",
      " 1   price       9990 non-null   object\n",
      " 2   address     9990 non-null   object\n",
      " 3   properties  9990 non-null   object\n",
      "dtypes: object(4)\n",
      "memory usage: 390.2+ KB\n"
     ]
    }
   ],
   "source": [
    "data.info()"
   ]
  },
  {
   "cell_type": "markdown",
   "id": "02e68657-e011-438f-a7da-2ef7523bcbb1",
   "metadata": {},
   "source": [
    "## Clean data"
   ]
  },
  {
   "cell_type": "code",
   "execution_count": 139,
   "id": "f61dd045-a49f-425d-b0b0-0961776cbc94",
   "metadata": {},
   "outputs": [
    {
     "data": {
      "text/html": [
       "<div>\n",
       "<style scoped>\n",
       "    .dataframe tbody tr th:only-of-type {\n",
       "        vertical-align: middle;\n",
       "    }\n",
       "\n",
       "    .dataframe tbody tr th {\n",
       "        vertical-align: top;\n",
       "    }\n",
       "\n",
       "    .dataframe thead th {\n",
       "        text-align: right;\n",
       "    }\n",
       "</style>\n",
       "<table border=\"1\" class=\"dataframe\">\n",
       "  <thead>\n",
       "    <tr style=\"text-align: right;\">\n",
       "      <th></th>\n",
       "      <th>type</th>\n",
       "      <th>price</th>\n",
       "      <th>address</th>\n",
       "      <th>properties</th>\n",
       "    </tr>\n",
       "  </thead>\n",
       "  <tbody>\n",
       "    <tr>\n",
       "      <th>0</th>\n",
       "      <td>\\n                    Appartement\\n           ...</td>\n",
       "      <td>€ 1.050 (+ € 150) \\n        1050€ + 150€ per m...</td>\n",
       "      <td>\\n                1030 Schaarbeek\\n</td>\n",
       "      <td>\\n        2 slp.\\n     \\n        2 slaapkamers...</td>\n",
       "    </tr>\n",
       "  </tbody>\n",
       "</table>\n",
       "</div>"
      ],
      "text/plain": [
       "                                                type  \\\n",
       "0  \\n                    Appartement\\n           ...   \n",
       "\n",
       "                                               price  \\\n",
       "0  € 1.050 (+ € 150) \\n        1050€ + 150€ per m...   \n",
       "\n",
       "                                           address  \\\n",
       "0  \\n                1030 Schaarbeek\\n               \n",
       "\n",
       "                                          properties  \n",
       "0  \\n        2 slp.\\n     \\n        2 slaapkamers...  "
      ]
     },
     "execution_count": 139,
     "metadata": {},
     "output_type": "execute_result"
    }
   ],
   "source": [
    "data.head(1)"
   ]
  },
  {
   "cell_type": "code",
   "execution_count": 154,
   "id": "aed45c3c-5bc0-4c75-86a8-070fc9a2f290",
   "metadata": {},
   "outputs": [],
   "source": [
    "data[\"type\"] = [a.strip() for a in data[\"type\"]]"
   ]
  },
  {
   "cell_type": "code",
   "execution_count": 168,
   "id": "06106e9a-3b05-49c4-9ebc-9082320e09c1",
   "metadata": {},
   "outputs": [],
   "source": [
    "import re\n",
    "def clean_price(price_str):\n",
    "    l = price_str.split(\"+\")\n",
    "    l = [int(re.sub(\"[^0-9]\", \"\", s)) for s in l]\n",
    "    return l"
   ]
  },
  {
   "cell_type": "code",
   "execution_count": 170,
   "id": "a606b767-8eff-428a-b576-07c838a08f34",
   "metadata": {},
   "outputs": [],
   "source": [
    "data[\"total_price\"] = [sum(clean_price(a.strip().split(\"\\n\")[1])) for a in data[\"price\"]]\n",
    "data[\"price\"] = [clean_price(a.strip().split(\"\\n\")[1]) for a in data[\"price\"]]"
   ]
  },
  {
   "cell_type": "code",
   "execution_count": 188,
   "id": "0c819d31-aa76-40e5-ba48-21f2a005fd46",
   "metadata": {},
   "outputs": [],
   "source": [
    "data[\"postal_code\"] = [s.strip().split(\" \")[0] for s in data[\"address\"]]\n",
    "data[\"city\"] = [s.strip().split(\" \")[1] for s in data[\"address\"]]\n",
    "data[\"address\"] = [s.strip() for s in data[\"address\"]]"
   ]
  },
  {
   "cell_type": "code",
   "execution_count": 202,
   "id": "be8c6f73-8664-4bad-a3d5-f31a7aacc66d",
   "metadata": {},
   "outputs": [
    {
     "data": {
      "text/plain": [
       "array([ 1,  3,  6, 12, 13])"
      ]
     },
     "execution_count": 202,
     "metadata": {},
     "output_type": "execute_result"
    }
   ],
   "source": [
    "np.unique([len(s.strip().split(\"\\n\")) for s in data[\"properties\"]])"
   ]
  },
  {
   "cell_type": "code",
   "execution_count": 252,
   "id": "5a63b7f5-85d0-4b52-b0a5-b007552a8aaa",
   "metadata": {},
   "outputs": [],
   "source": [
    "# Add bedrooms\n",
    "def add_bedrooms(properties):\n",
    "    l = properties.strip().split(\"\\n\")\n",
    "    if len(l) != 1 and len(l) != 6:\n",
    "        new_l = l[0].split(\" \")\n",
    "        if len(new_l) > 2:\n",
    "            return int(new_l[2])\n",
    "        else:\n",
    "            return int(new_l[0])\n",
    "    else:\n",
    "        return np.NaN"
   ]
  },
  {
   "cell_type": "code",
   "execution_count": 269,
   "id": "24e1d263-3208-4233-9267-daab055f4b19",
   "metadata": {},
   "outputs": [
    {
     "data": {
      "text/plain": [
       "['25',\n",
       " '',\n",
       " '                        ',\n",
       " '        m²',\n",
       " '     ',\n",
       " '        vierkante meters']"
      ]
     },
     "execution_count": 269,
     "metadata": {},
     "output_type": "execute_result"
    }
   ],
   "source": [
    "[s.strip().split(\"\\n\") for s in data[\"properties\"]if len(s.strip().split(\"\\n\")) == 6][0]"
   ]
  },
  {
   "cell_type": "code",
   "execution_count": 259,
   "id": "33b14f9d-432b-44ad-b409-8d30cbda4f0f",
   "metadata": {},
   "outputs": [],
   "source": [
    "data[\"bedrooms\"] = [add_bedrooms(s) for s in data[\"properties\"]]"
   ]
  },
  {
   "cell_type": "code",
   "execution_count": 271,
   "id": "f105bc12-63fb-4eaf-8778-67f79eebb13a",
   "metadata": {},
   "outputs": [],
   "source": [
    "# Add surface area\n",
    "def add_surface_area(properties):\n",
    "    l = properties.strip().split(\"\\n\")\n",
    "    if len(l) != 1 and len(l) != 3:\n",
    "        new_l = l[0].split(\" \")\n",
    "        if len(new_l) == 12:\n",
    "            return int(new_l[6])\n",
    "        if len(new_l) == 13:\n",
    "            return int(new_l[7])\n",
    "        else:\n",
    "            return int(new_l[0])\n",
    "    else:\n",
    "        return np.NaN"
   ]
  },
  {
   "cell_type": "code",
   "execution_count": 281,
   "id": "50d4ea66-3792-4e47-8062-c5de7b0e7aca",
   "metadata": {},
   "outputs": [],
   "source": [
    "data[\"surface_area\"] = [add_surface_area(s) for s in data[\"properties\"]]"
   ]
  },
  {
   "cell_type": "code",
   "execution_count": 277,
   "id": "30a9e6c8-7c64-4ed2-a191-184a244fb863",
   "metadata": {},
   "outputs": [],
   "source": [
    "data = data.drop([\"properties\"], axis=1)"
   ]
  },
  {
   "cell_type": "code",
   "execution_count": 283,
   "id": "c7273949-9e54-47e0-8d84-33e0bbfccec9",
   "metadata": {},
   "outputs": [
    {
     "data": {
      "text/html": [
       "<div>\n",
       "<style scoped>\n",
       "    .dataframe tbody tr th:only-of-type {\n",
       "        vertical-align: middle;\n",
       "    }\n",
       "\n",
       "    .dataframe tbody tr th {\n",
       "        vertical-align: top;\n",
       "    }\n",
       "\n",
       "    .dataframe thead th {\n",
       "        text-align: right;\n",
       "    }\n",
       "</style>\n",
       "<table border=\"1\" class=\"dataframe\">\n",
       "  <thead>\n",
       "    <tr style=\"text-align: right;\">\n",
       "      <th></th>\n",
       "      <th>type</th>\n",
       "      <th>price</th>\n",
       "      <th>address</th>\n",
       "      <th>total_price</th>\n",
       "      <th>postal_code</th>\n",
       "      <th>city</th>\n",
       "      <th>bedrooms</th>\n",
       "      <th>surface_area</th>\n",
       "    </tr>\n",
       "  </thead>\n",
       "  <tbody>\n",
       "    <tr>\n",
       "      <th>0</th>\n",
       "      <td>Appartement</td>\n",
       "      <td>[1050, 150]</td>\n",
       "      <td>1030 Schaarbeek</td>\n",
       "      <td>1200</td>\n",
       "      <td>1030</td>\n",
       "      <td>Schaarbeek</td>\n",
       "      <td>2.0</td>\n",
       "      <td>2.0</td>\n",
       "    </tr>\n",
       "    <tr>\n",
       "      <th>0</th>\n",
       "      <td>Loft</td>\n",
       "      <td>[1400, 30]</td>\n",
       "      <td>1180 Bruxelles</td>\n",
       "      <td>1430</td>\n",
       "      <td>1180</td>\n",
       "      <td>Bruxelles</td>\n",
       "      <td>2.0</td>\n",
       "      <td>2.0</td>\n",
       "    </tr>\n",
       "    <tr>\n",
       "      <th>0</th>\n",
       "      <td>Appartement</td>\n",
       "      <td>[840, 40]</td>\n",
       "      <td>1040 Etterbeek</td>\n",
       "      <td>880</td>\n",
       "      <td>1040</td>\n",
       "      <td>Etterbeek</td>\n",
       "      <td>1.0</td>\n",
       "      <td>1.0</td>\n",
       "    </tr>\n",
       "    <tr>\n",
       "      <th>0</th>\n",
       "      <td>Appartement</td>\n",
       "      <td>[840, 40]</td>\n",
       "      <td>1150 Woluwe-Saint-Pierre</td>\n",
       "      <td>880</td>\n",
       "      <td>1150</td>\n",
       "      <td>Woluwe-Saint-Pierre</td>\n",
       "      <td>1.0</td>\n",
       "      <td>1.0</td>\n",
       "    </tr>\n",
       "    <tr>\n",
       "      <th>0</th>\n",
       "      <td>Penthouse</td>\n",
       "      <td>[1100, 100]</td>\n",
       "      <td>1140 Evere</td>\n",
       "      <td>1200</td>\n",
       "      <td>1140</td>\n",
       "      <td>Evere</td>\n",
       "      <td>1.0</td>\n",
       "      <td>1.0</td>\n",
       "    </tr>\n",
       "  </tbody>\n",
       "</table>\n",
       "</div>"
      ],
      "text/plain": [
       "          type        price                   address  total_price  \\\n",
       "0  Appartement  [1050, 150]           1030 Schaarbeek         1200   \n",
       "0         Loft   [1400, 30]            1180 Bruxelles         1430   \n",
       "0  Appartement    [840, 40]            1040 Etterbeek          880   \n",
       "0  Appartement    [840, 40]  1150 Woluwe-Saint-Pierre          880   \n",
       "0    Penthouse  [1100, 100]                1140 Evere         1200   \n",
       "\n",
       "  postal_code                 city  bedrooms  surface_area  \n",
       "0        1030           Schaarbeek       2.0           2.0  \n",
       "0        1180            Bruxelles       2.0           2.0  \n",
       "0        1040            Etterbeek       1.0           1.0  \n",
       "0        1150  Woluwe-Saint-Pierre       1.0           1.0  \n",
       "0        1140                Evere       1.0           1.0  "
      ]
     },
     "execution_count": 283,
     "metadata": {},
     "output_type": "execute_result"
    }
   ],
   "source": [
    "data.head()"
   ]
  },
  {
   "cell_type": "code",
   "execution_count": 284,
   "id": "7135e51b-f50d-4739-aa5e-b7099b454609",
   "metadata": {},
   "outputs": [
    {
     "name": "stdout",
     "output_type": "stream",
     "text": [
      "<class 'pandas.core.frame.DataFrame'>\n",
      "Int64Index: 9990 entries, 0 to 0\n",
      "Data columns (total 8 columns):\n",
      " #   Column        Non-Null Count  Dtype  \n",
      "---  ------        --------------  -----  \n",
      " 0   type          9990 non-null   object \n",
      " 1   price         9990 non-null   object \n",
      " 2   address       9990 non-null   object \n",
      " 3   total_price   9990 non-null   int64  \n",
      " 4   postal_code   9990 non-null   object \n",
      " 5   city          9990 non-null   object \n",
      " 6   bedrooms      9517 non-null   float64\n",
      " 7   surface_area  8429 non-null   float64\n",
      "dtypes: float64(2), int64(1), object(5)\n",
      "memory usage: 960.5+ KB\n"
     ]
    }
   ],
   "source": [
    "data.info()"
   ]
  },
  {
   "cell_type": "markdown",
   "id": "fb211864-a168-4ddc-a569-9b2b19ca5edd",
   "metadata": {},
   "source": [
    "## Save to excel file"
   ]
  },
  {
   "cell_type": "code",
   "execution_count": 285,
   "id": "3164d5f5-52ff-483c-8e28-3e43e01e2a50",
   "metadata": {},
   "outputs": [],
   "source": [
    "data.to_excel(\"./data/appartments.xlsx\")"
   ]
  },
  {
   "cell_type": "code",
   "execution_count": null,
   "id": "b1709410-3dca-44a9-83f1-c5b5ae2dea93",
   "metadata": {},
   "outputs": [],
   "source": []
  }
 ],
 "metadata": {
  "kernelspec": {
   "display_name": "Python 3 (ipykernel)",
   "language": "python",
   "name": "python3"
  },
  "language_info": {
   "codemirror_mode": {
    "name": "ipython",
    "version": 3
   },
   "file_extension": ".py",
   "mimetype": "text/x-python",
   "name": "python",
   "nbconvert_exporter": "python",
   "pygments_lexer": "ipython3",
   "version": "3.8.5"
  }
 },
 "nbformat": 4,
 "nbformat_minor": 5
}
