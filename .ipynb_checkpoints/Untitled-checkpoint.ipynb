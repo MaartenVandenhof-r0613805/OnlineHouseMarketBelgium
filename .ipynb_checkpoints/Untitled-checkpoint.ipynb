{
 "cells": [
  {
   "cell_type": "code",
   "execution_count": 4,
   "id": "7430c556-71a1-4819-976d-11f796bed0a2",
   "metadata": {},
   "outputs": [],
   "source": [
    "import selenium as s\n",
    "from bs4 import BeautifulSoup\n",
    "import pandas as pd\n",
    "from selenium import webdriver\n",
    "from selenium.webdriver.chrome.options import Options\n",
    "from selenium.webdriver.chrome.service import Service\n",
    "import time\n",
    "from selenium.webdriver.common.by import By"
   ]
  },
  {
   "cell_type": "code",
   "execution_count": 2,
   "id": "091439d9-626a-4b5c-8bfa-a32b8d6b3430",
   "metadata": {},
   "outputs": [],
   "source": [
    "# Initialize variables\n",
    "# Windows PC:\n",
    "PATH = \"./drivers/chromedriver.exe\"\n",
    "\n",
    "# LINUX PC:\n",
    "# PATH = \"./drivers/chromedriver\"\n",
    "\n",
    "chrome_options = Options()\n",
    "s = Service(PATH)\n",
    "# chrome_options.add_argument(\"--headless\")\n",
    "\n",
    "driver = webdriver.Chrome(service=s, options=chrome_options)\n",
    "immoweb_list = \"https://www.immoweb.be/nl/zoeken/appartement/te-huur?countries=BE&page=1&orderBy=relevance\"\n",
    "driver.get(immoweb_list)"
   ]
  },
  {
   "cell_type": "code",
   "execution_count": 5,
   "id": "f5bd2e83-bcee-4a26-92ba-852269917507",
   "metadata": {},
   "outputs": [],
   "source": [
    "# Accept cookies\n",
    "cookie_btn = \"uc-btn-accept-banner\"\n",
    "time.sleep(2)\n",
    "driver.find_element(By.ID, cookie_btn).click()"
   ]
  },
  {
   "cell_type": "code",
   "execution_count": 6,
   "id": "da6a9712-07bc-4018-9b44-e501db05f69f",
   "metadata": {},
   "outputs": [],
   "source": [
    "# Scroll down\n",
    "y = 1000\n",
    "for timer in range(0,10):\n",
    "     driver.execute_script(\"window.scrollTo(0, \"+str(y)+\")\")\n",
    "     y += 1000  \n",
    "     time.sleep(1)"
   ]
  },
  {
   "cell_type": "code",
   "execution_count": 53,
   "id": "f52e69bf-9d47-4083-ad17-b7cb325347d5",
   "metadata": {},
   "outputs": [],
   "source": [
    "# Get items\n",
    "item_class = \"search-results__item\"\n",
    "price_class = \"card--result__price\"\n",
    "address_class = \"card__information card--results__information--locality card__information--locality\"\n",
    "\n",
    "soup = BeautifulSoup(driver.page_source)\n",
    "data = pd.DataFrame()\n",
    "\n",
    "for item in soup.select('li.'+ item_class):\n",
    "    if item.select('div[class*=\"adfocus\"]') == [] and item.select('div[class*=\"pdpads\"]') == []:\n",
    "        price = item.select(\"p.\"+price_class)[0].text\n",
    "        properties = item.select(\"p.card__information.card--result__information.card__information--property\")[0].text\n",
    "        address = item.select(\"p.card__information.card--results__information--locality.card__information--locality\")[0].text\n",
    "        acc_type = item.select(\"a.card__title-link\")[0].text\n",
    "        \n",
    "        df_temp = pd.DataFrame(data=[[acc_type, price, address, properties]], columns=[\"type\", \"price\", \"address\", \"properties\"])\n",
    "        if data.empty:\n",
    "            data = df_temp\n",
    "        else:\n",
    "            data = data.append(df_temp)"
   ]
  },
  {
   "cell_type": "code",
   "execution_count": 57,
   "id": "0408dc5e-4363-477e-a59e-dccd3f7d5727",
   "metadata": {},
   "outputs": [
    {
     "data": {
      "text/html": [
       "<div>\n",
       "<style scoped>\n",
       "    .dataframe tbody tr th:only-of-type {\n",
       "        vertical-align: middle;\n",
       "    }\n",
       "\n",
       "    .dataframe tbody tr th {\n",
       "        vertical-align: top;\n",
       "    }\n",
       "\n",
       "    .dataframe thead th {\n",
       "        text-align: right;\n",
       "    }\n",
       "</style>\n",
       "<table border=\"1\" class=\"dataframe\">\n",
       "  <thead>\n",
       "    <tr style=\"text-align: right;\">\n",
       "      <th></th>\n",
       "      <th>type</th>\n",
       "      <th>price</th>\n",
       "      <th>address</th>\n",
       "      <th>properties</th>\n",
       "    </tr>\n",
       "  </thead>\n",
       "  <tbody>\n",
       "    <tr>\n",
       "      <th>0</th>\n",
       "      <td>\\n                    Appartement\\n           ...</td>\n",
       "      <td>€ 1.050 (+ € 150) \\n        1050€ + 150€ per m...</td>\n",
       "      <td>\\n                1030 Schaarbeek\\n</td>\n",
       "      <td>\\n        2 slp.\\n     \\n        2 slaapkamers...</td>\n",
       "    </tr>\n",
       "    <tr>\n",
       "      <th>0</th>\n",
       "      <td>\\n                    Loft\\n</td>\n",
       "      <td>€ 1.400 (+ € 30) \\n        1400€ + 30€ per maa...</td>\n",
       "      <td>\\n                1180 Bruxelles\\n</td>\n",
       "      <td>\\n        2 slp.\\n     \\n        2 slaapkamers...</td>\n",
       "    </tr>\n",
       "    <tr>\n",
       "      <th>0</th>\n",
       "      <td>\\n                    Appartement\\n           ...</td>\n",
       "      <td>€ 840 (+ € 40) \\n        840€ + 40€ per maand\\...</td>\n",
       "      <td>\\n                1040 Etterbeek\\n</td>\n",
       "      <td>\\n        1 slp.\\n     \\n        1 slaapkamer\\...</td>\n",
       "    </tr>\n",
       "    <tr>\n",
       "      <th>0</th>\n",
       "      <td>\\n                    Appartement\\n           ...</td>\n",
       "      <td>€ 840 (+ € 40) \\n        840€ + 40€ per maand\\...</td>\n",
       "      <td>\\n                1150 Woluwe-Saint-Pierre\\n  ...</td>\n",
       "      <td>\\n        1 slp.\\n     \\n        1 slaapkamer\\...</td>\n",
       "    </tr>\n",
       "    <tr>\n",
       "      <th>0</th>\n",
       "      <td>\\n                    Penthouse\\n</td>\n",
       "      <td>€ 1.100 (+ € 100) \\n        1100€ + 100€ per m...</td>\n",
       "      <td>\\n                1140 Evere\\n</td>\n",
       "      <td>\\n        1 slp.\\n     \\n        1 slaapkamer\\...</td>\n",
       "    </tr>\n",
       "  </tbody>\n",
       "</table>\n",
       "</div>"
      ],
      "text/plain": [
       "                                                type  \\\n",
       "0  \\n                    Appartement\\n           ...   \n",
       "0       \\n                    Loft\\n                   \n",
       "0  \\n                    Appartement\\n           ...   \n",
       "0  \\n                    Appartement\\n           ...   \n",
       "0  \\n                    Penthouse\\n                   \n",
       "\n",
       "                                               price  \\\n",
       "0  € 1.050 (+ € 150) \\n        1050€ + 150€ per m...   \n",
       "0  € 1.400 (+ € 30) \\n        1400€ + 30€ per maa...   \n",
       "0  € 840 (+ € 40) \\n        840€ + 40€ per maand\\...   \n",
       "0  € 840 (+ € 40) \\n        840€ + 40€ per maand\\...   \n",
       "0  € 1.100 (+ € 100) \\n        1100€ + 100€ per m...   \n",
       "\n",
       "                                             address  \\\n",
       "0    \\n                1030 Schaarbeek\\n               \n",
       "0     \\n                1180 Bruxelles\\n               \n",
       "0     \\n                1040 Etterbeek\\n               \n",
       "0  \\n                1150 Woluwe-Saint-Pierre\\n  ...   \n",
       "0         \\n                1140 Evere\\n               \n",
       "\n",
       "                                          properties  \n",
       "0  \\n        2 slp.\\n     \\n        2 slaapkamers...  \n",
       "0  \\n        2 slp.\\n     \\n        2 slaapkamers...  \n",
       "0  \\n        1 slp.\\n     \\n        1 slaapkamer\\...  \n",
       "0  \\n        1 slp.\\n     \\n        1 slaapkamer\\...  \n",
       "0  \\n        1 slp.\\n     \\n        1 slaapkamer\\...  "
      ]
     },
     "execution_count": 57,
     "metadata": {},
     "output_type": "execute_result"
    }
   ],
   "source": [
    "data.head()"
   ]
  },
  {
   "cell_type": "code",
   "execution_count": null,
   "id": "324308ce-1571-4f0d-a17d-c0daaa64c782",
   "metadata": {},
   "outputs": [],
   "source": []
  }
 ],
 "metadata": {
  "kernelspec": {
   "display_name": "Python 3 (ipykernel)",
   "language": "python",
   "name": "python3"
  },
  "language_info": {
   "codemirror_mode": {
    "name": "ipython",
    "version": 3
   },
   "file_extension": ".py",
   "mimetype": "text/x-python",
   "name": "python",
   "nbconvert_exporter": "python",
   "pygments_lexer": "ipython3",
   "version": "3.8.5"
  }
 },
 "nbformat": 4,
 "nbformat_minor": 5
}
