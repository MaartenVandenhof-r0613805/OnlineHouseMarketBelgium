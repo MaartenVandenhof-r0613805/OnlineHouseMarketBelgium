{
 "cells": [
  {
   "cell_type": "code",
   "execution_count": 28,
   "id": "7430c556-71a1-4819-976d-11f796bed0a2",
   "metadata": {},
   "outputs": [],
   "source": [
    "import selenium as s\n",
    "from bs4 import BeautifulSoup\n",
    "import pandas as pd\n",
    "from selenium import webdriver\n",
    "from selenium.webdriver.chrome.options import Options\n",
    "from selenium.webdriver.chrome.service import Service\n",
    "import time\n"
   ]
  },
  {
   "cell_type": "code",
   "execution_count": 55,
   "id": "091439d9-626a-4b5c-8bfa-a32b8d6b3430",
   "metadata": {},
   "outputs": [],
   "source": [
    "# Initialize variables\n",
    "# Windows PC:\n",
    "PATH = \"./drivers/chromedriver.exe\"\n",
    "\n",
    "# LINUX PC:\n",
    "# PATH = \"./drivers/chromedriver\"\n",
    "\n",
    "chrome_options = Options()\n",
    "s = Service(PATH)\n",
    "# chrome_options.add_argument(\"--headless\")\n",
    "\n",
    "driver = webdriver.Chrome(service=s, options=chrome_options)\n",
    "immoweb_list = \"https://www.immoweb.be/nl/zoeken/appartement/te-huur?countries=BE&page=1&orderBy=relevance\"\n",
    "driver.get(immoweb_list)"
   ]
  },
  {
   "cell_type": "code",
   "execution_count": 56,
   "id": "f5bd2e83-bcee-4a26-92ba-852269917507",
   "metadata": {},
   "outputs": [],
   "source": [
    "# Accept cookies\n",
    "cookie_btn = \"uc-btn-accept-banner\"\n",
    "time.sleep(2)\n",
    "driver.find_element(By.ID, cookie_btn).click()"
   ]
  },
  {
   "cell_type": "code",
   "execution_count": 57,
   "id": "da6a9712-07bc-4018-9b44-e501db05f69f",
   "metadata": {},
   "outputs": [],
   "source": [
    "# Scroll down\n",
    "y = 1000\n",
    "for timer in range(0,10):\n",
    "     driver.execute_script(\"window.scrollTo(0, \"+str(y)+\")\")\n",
    "     y += 1000  \n",
    "     time.sleep(1)"
   ]
  },
  {
   "cell_type": "code",
   "execution_count": 104,
   "id": "f52e69bf-9d47-4083-ad17-b7cb325347d5",
   "metadata": {},
   "outputs": [
    {
     "name": "stdout",
     "output_type": "stream",
     "text": [
      "[]\n"
     ]
    },
    {
     "ename": "AttributeError",
     "evalue": "ResultSet object has no attribute 'text'. You're probably treating a list of elements like a single element. Did you call find_all() when you meant to call find()?",
     "output_type": "error",
     "traceback": [
      "\u001b[1;31m---------------------------------------------------------------------------\u001b[0m",
      "\u001b[1;31mAttributeError\u001b[0m                            Traceback (most recent call last)",
      "\u001b[1;32mC:\\Users\\MAARTE~1\\AppData\\Local\\Temp/ipykernel_5048/2753743909.py\u001b[0m in \u001b[0;36m<module>\u001b[1;34m\u001b[0m\n\u001b[0;32m     10\u001b[0m     \u001b[0mprice\u001b[0m \u001b[1;33m=\u001b[0m \u001b[0mitem\u001b[0m\u001b[1;33m.\u001b[0m\u001b[0mselect\u001b[0m\u001b[1;33m(\u001b[0m\u001b[1;34m\"span.sr-only\"\u001b[0m\u001b[1;33m)\u001b[0m\u001b[1;33m[\u001b[0m\u001b[1;36m0\u001b[0m\u001b[1;33m]\u001b[0m\u001b[1;33m.\u001b[0m\u001b[0mtext\u001b[0m\u001b[1;33m\u001b[0m\u001b[1;33m\u001b[0m\u001b[0m\n\u001b[0;32m     11\u001b[0m     \u001b[0mprint\u001b[0m\u001b[1;33m(\u001b[0m\u001b[0mitem\u001b[0m\u001b[1;33m.\u001b[0m\u001b[0mselect\u001b[0m\u001b[1;33m(\u001b[0m\u001b[1;34m\"p.card__informations card--result__informations\"\u001b[0m\u001b[1;33m)\u001b[0m\u001b[1;33m)\u001b[0m\u001b[1;33m\u001b[0m\u001b[1;33m\u001b[0m\u001b[0m\n\u001b[1;32m---> 12\u001b[1;33m     \u001b[0mproperties\u001b[0m \u001b[1;33m=\u001b[0m \u001b[0mitem\u001b[0m\u001b[1;33m.\u001b[0m\u001b[0mselect\u001b[0m\u001b[1;33m(\u001b[0m\u001b[1;34m\"p.card__informations card--result__informations\"\u001b[0m\u001b[1;33m)\u001b[0m\u001b[1;33m.\u001b[0m\u001b[0mtext\u001b[0m\u001b[1;33m\u001b[0m\u001b[1;33m\u001b[0m\u001b[0m\n\u001b[0m\u001b[0;32m     13\u001b[0m     \u001b[0maddress\u001b[0m \u001b[1;33m=\u001b[0m \u001b[0mitem\u001b[0m\u001b[1;33m.\u001b[0m\u001b[0mselect\u001b[0m\u001b[1;33m(\u001b[0m\u001b[1;34m\"p.card__information card--results__information--locality card__information--locality\"\u001b[0m\u001b[1;33m)\u001b[0m\u001b[1;33m[\u001b[0m\u001b[1;36m0\u001b[0m\u001b[1;33m]\u001b[0m\u001b[1;33m.\u001b[0m\u001b[0mtext\u001b[0m\u001b[1;33m\u001b[0m\u001b[1;33m\u001b[0m\u001b[0m\n\u001b[0;32m     14\u001b[0m     \u001b[0macc_type\u001b[0m \u001b[1;33m=\u001b[0m \u001b[0mitem\u001b[0m\u001b[1;33m.\u001b[0m\u001b[0mselect\u001b[0m\u001b[1;33m(\u001b[0m\u001b[1;34m\"a.card__title-link\"\u001b[0m\u001b[1;33m)\u001b[0m\u001b[1;33m[\u001b[0m\u001b[1;36m0\u001b[0m\u001b[1;33m]\u001b[0m\u001b[1;33m.\u001b[0m\u001b[0mtext\u001b[0m\u001b[1;33m\u001b[0m\u001b[1;33m\u001b[0m\u001b[0m\n",
      "\u001b[1;32mC:\\ProgramData\\Anaconda3\\lib\\site-packages\\bs4\\element.py\u001b[0m in \u001b[0;36m__getattr__\u001b[1;34m(self, key)\u001b[0m\n\u001b[0;32m   2251\u001b[0m     \u001b[1;32mdef\u001b[0m \u001b[0m__getattr__\u001b[0m\u001b[1;33m(\u001b[0m\u001b[0mself\u001b[0m\u001b[1;33m,\u001b[0m \u001b[0mkey\u001b[0m\u001b[1;33m)\u001b[0m\u001b[1;33m:\u001b[0m\u001b[1;33m\u001b[0m\u001b[1;33m\u001b[0m\u001b[0m\n\u001b[0;32m   2252\u001b[0m         \u001b[1;34m\"\"\"Raise a helpful exception to explain a common code fix.\"\"\"\u001b[0m\u001b[1;33m\u001b[0m\u001b[1;33m\u001b[0m\u001b[0m\n\u001b[1;32m-> 2253\u001b[1;33m         raise AttributeError(\n\u001b[0m\u001b[0;32m   2254\u001b[0m             \u001b[1;34m\"ResultSet object has no attribute '%s'. You're probably treating a list of elements like a single element. Did you call find_all() when you meant to call find()?\"\u001b[0m \u001b[1;33m%\u001b[0m \u001b[0mkey\u001b[0m\u001b[1;33m\u001b[0m\u001b[1;33m\u001b[0m\u001b[0m\n\u001b[0;32m   2255\u001b[0m         )\n",
      "\u001b[1;31mAttributeError\u001b[0m: ResultSet object has no attribute 'text'. You're probably treating a list of elements like a single element. Did you call find_all() when you meant to call find()?"
     ]
    }
   ],
   "source": [
    "# Get items\n",
    "item_class = \"search-results__item\"\n",
    "price_class = \"card--result__price\"\n",
    "address_class = \"card__information card--results__information--locality card__information--locality\"\n",
    "\n",
    "soup = BeautifulSoup(driver.page_source)\n",
    "data = pd.DataFrame()\n",
    "\n",
    "for item in soup.select('p.'+price_class):\n",
    "    price = item.select(\"span.sr-only\")[0].text\n",
    "    print(item.select(\"p.card__informations card--result__informations\"))\n",
    "    properties = item.select(\"p.card__informations card--result__informations\").text\n",
    "    address = item.select(\"p.card__information card--results__information--locality card__information--locality\")[0].text\n",
    "    acc_type = item.select(\"a.card__title-link\")[0].text\n",
    "    \n",
    "    if data.empty:\n",
    "        data = pd.DataFrame([acc_type, price, address, properties])\n",
    "    else:\n",
    "        data = data.append(pd.DataFrame([acc_type, price, address, properties]))"
   ]
  },
  {
   "cell_type": "code",
   "execution_count": null,
   "id": "0408dc5e-4363-477e-a59e-dccd3f7d5727",
   "metadata": {},
   "outputs": [],
   "source": []
  },
  {
   "cell_type": "code",
   "execution_count": null,
   "id": "324308ce-1571-4f0d-a17d-c0daaa64c782",
   "metadata": {},
   "outputs": [],
   "source": []
  }
 ],
 "metadata": {
  "kernelspec": {
   "display_name": "Python 3 (ipykernel)",
   "language": "python",
   "name": "python3"
  },
  "language_info": {
   "codemirror_mode": {
    "name": "ipython",
    "version": 3
   },
   "file_extension": ".py",
   "mimetype": "text/x-python",
   "name": "python",
   "nbconvert_exporter": "python",
   "pygments_lexer": "ipython3",
   "version": "3.8.5"
  }
 },
 "nbformat": 4,
 "nbformat_minor": 5
}
